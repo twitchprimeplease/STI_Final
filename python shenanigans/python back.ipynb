{
 "cells": [
  {
   "cell_type": "code",
   "execution_count": 2,
   "id": "cecaf891",
   "metadata": {},
   "outputs": [],
   "source": [
    "import pandas as pd\n",
    "import firebase_admin\n",
    "from firebase_admin import credentials, db\n",
    "from sklearn.metrics.pairwise import cosine_similarity\n",
    "\n",
    "if not firebase_admin._apps:\n",
    "    \n",
    "    cred = credentials.Certificate('nope.json')\n",
    "    firebase_admin.initialize_app(cred, {\n",
    "        'databaseURL': 'https://sistema-rec-dmi-default-rtdb.firebaseio.com/'\n",
    "    })\n",
    "ref = db.reference('/base_usuarios') \n",
    "\n",
    "datos_firebase = ref.get()\n",
    "\n",
    "df_firebase = pd.DataFrame(datos_firebase)\n",
    "\n",
    "rating_columns = [\n",
    "    'electiva',\n",
    "    'general_rating',\n",
    "    'method_rating',\n",
    "    'personalGrowth_rating',\n",
    "    'rec_rating',\n",
    "    'teacher_rating',\n",
    "    'time_rating'\n",
    "]\n",
    "\n",
    "prefixes = ['first', 'second', 'third']\n",
    "\n",
    "df_ratings_list = []\n",
    "\n",
    "for indice, fila in df_firebase.iterrows():\n",
    "    determinante = fila['determinante_electivas']\n",
    "    \n",
    "    for i, prefix in enumerate(prefixes, start=1):\n",
    "        electiva_col = f'{prefix}_electiva'\n",
    "        general_col = f'{prefix}_general_rating'\n",
    "        method_col = f'{prefix}_method_rating'\n",
    "        personalGrowth_col = f'{prefix}_personalGrowth_rating'\n",
    "        rec_col = f'{prefix}_rec_rating'\n",
    "        teacher_col = f'{prefix}_teacher_rating'\n",
    "        time_col = f'{prefix}_time_rating'\n",
    "        \n",
    "        electiva = fila[electiva_col]\n",
    "        \n",
    "        if electiva.lower() != 'no':\n",
    "            nueva_fila = {\n",
    "                'electiva': electiva,\n",
    "                'general_rating': fila[general_col] if fila[general_col] != 'none' else None,\n",
    "                'method_rating': fila[method_col] if fila[method_col] != 'none' else None,\n",
    "                'personalGrowth_rating': fila[personalGrowth_col] if fila[personalGrowth_col] != 'none' else None,\n",
    "                'rec_rating': fila[rec_col] if fila[rec_col] != 'none' else None,\n",
    "                'teacher_rating': fila[teacher_col] if fila[teacher_col] != 'none' else None,\n",
    "                'time_rating': fila[time_col] if fila[time_col] != 'none' else None,\n",
    "            }\n",
    "            \n",
    "            df_temporal = pd.DataFrame([nueva_fila], columns=rating_columns)\n",
    "            df_ratings_list.append(df_temporal)\n",
    "\n",
    "df_ratings = pd.concat(df_ratings_list, ignore_index=True)\n",
    "df_ratings = df_ratings.dropna()\n",
    "\n",
    "def find_similar_electives(electiva_seleccionada, top_n=3):\n",
    "    selected_elective_data = df_ratings[df_ratings['electiva'] == electiva_seleccionada]\n",
    "    selected_elective_data = selected_elective_data.drop(columns=['electiva'])\n",
    "    similarity_scores = cosine_similarity(selected_elective_data, df_ratings.drop(columns=['electiva']))\n",
    "    similar_indices = similarity_scores.argsort()[0][-top_n - 1:-1][::-1]\n",
    "    similar_electives = df_ratings.iloc[similar_indices]['electiva'].tolist()\n",
    "\n",
    "    return similar_electives\n"
   ]
  },
  {
   "cell_type": "code",
   "execution_count": null,
   "id": "f96ce3a3",
   "metadata": {},
   "outputs": [
    {
     "name": "stdout",
     "output_type": "stream",
     "text": [
      " * Serving Flask app '__main__'\n",
      " * Debug mode: off\n"
     ]
    },
    {
     "name": "stderr",
     "output_type": "stream",
     "text": [
      "WARNING: This is a development server. Do not use it in a production deployment. Use a production WSGI server instead.\n",
      " * Running on http://127.0.0.1:5000\n",
      "Press CTRL+C to quit\n",
      "127.0.0.1 - - [23/Nov/2023 17:53:29] \"OPTIONS /rec-dmi HTTP/1.1\" 200 -\n",
      "127.0.0.1 - - [23/Nov/2023 17:53:29] \"POST /rec-dmi HTTP/1.1\" 200 -\n"
     ]
    },
    {
     "name": "stdout",
     "output_type": "stream",
     "text": [
      "{'prefer': 'dev', 'day': 'martes', 'modal': 'presencial'}\n"
     ]
    },
    {
     "name": "stderr",
     "output_type": "stream",
     "text": [
      "127.0.0.1 - - [23/Nov/2023 19:06:12] \"OPTIONS /rec-dmi HTTP/1.1\" 200 -\n",
      "127.0.0.1 - - [23/Nov/2023 19:06:13] \"POST /rec-dmi HTTP/1.1\" 200 -\n"
     ]
    },
    {
     "name": "stdout",
     "output_type": "stream",
     "text": [
      "{'prefer': 'dev', 'day': 'martes', 'modal': 'presencial', 'importance': 'personal-growth'}\n"
     ]
    },
    {
     "name": "stderr",
     "output_type": "stream",
     "text": [
      "127.0.0.1 - - [23/Nov/2023 19:11:20] \"OPTIONS /rec-dmi HTTP/1.1\" 200 -\n",
      "127.0.0.1 - - [23/Nov/2023 19:11:20] \"POST /rec-dmi HTTP/1.1\" 200 -\n"
     ]
    },
    {
     "name": "stdout",
     "output_type": "stream",
     "text": [
      "{'prefer': 'ui', 'day': 'martes', 'modal': 'virtual', 'importance': 'rec'}\n"
     ]
    }
   ],
   "source": [
    "from flask import Flask, request, jsonify\n",
    "from flask_cors import CORS\n",
    "\n",
    "app = Flask(__name__)\n",
    "CORS(app)\n",
    "\n",
    "@app.route('/rec-dmi', methods=['POST'])\n",
    "def recibir_datos():\n",
    "    datos_recibidos = request.json  \n",
    "    print(datos_recibidos)\n",
    "    \n",
    "    electiva_seleccionada = 'Innovación en servicios'\n",
    "    similares = find_similar_electives(electiva_seleccionada)\n",
    "    \n",
    "    respuesta = {\"similares\": similares,\n",
    "                \"hello\":\"hi\"}\n",
    "    \n",
    "    return jsonify(respuesta)\n",
    "\n",
    "if __name__ == '__main__':\n",
    "    app.run(port=5000) "
   ]
  },
  {
   "cell_type": "code",
   "execution_count": null,
   "id": "c34ec28c",
   "metadata": {},
   "outputs": [],
   "source": []
  },
  {
   "cell_type": "code",
   "execution_count": null,
   "id": "76231495",
   "metadata": {},
   "outputs": [],
   "source": []
  }
 ],
 "metadata": {
  "kernelspec": {
   "display_name": "Python 3 (ipykernel)",
   "language": "python",
   "name": "python3"
  },
  "language_info": {
   "codemirror_mode": {
    "name": "ipython",
    "version": 3
   },
   "file_extension": ".py",
   "mimetype": "text/x-python",
   "name": "python",
   "nbconvert_exporter": "python",
   "pygments_lexer": "ipython3",
   "version": "3.11.4"
  }
 },
 "nbformat": 4,
 "nbformat_minor": 5
}
