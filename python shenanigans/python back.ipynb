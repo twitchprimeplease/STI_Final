{
 "cells": [
  {
   "cell_type": "code",
   "execution_count": 1,
   "id": "cecaf891",
   "metadata": {},
   "outputs": [
    {
     "name": "stdout",
     "output_type": "stream",
     "text": [
      "Index(['electiva', 'general_rating', 'method_rating', 'personalGrowth_rating',\n",
      "       'rec_rating', 'teacher_rating', 'time_rating', 'classification', 'day',\n",
      "       'modal'],\n",
      "      dtype='object')\n"
     ]
    }
   ],
   "source": [
    "import pandas as pd\n",
    "import firebase_admin\n",
    "from firebase_admin import credentials, db\n",
    "from sklearn.metrics.pairwise import cosine_similarity\n",
    "\n",
    "if not firebase_admin._apps:\n",
    "    \n",
    "    cred = credentials.Certificate('nope.json')\n",
    "    firebase_admin.initialize_app(cred, {\n",
    "        'databaseURL': 'https://sistema-rec-dmi-default-rtdb.firebaseio.com/'\n",
    "    })\n",
    "ref = db.reference('/base_usuarios')\n",
    "ref2 = db.reference('/base_materias')\n",
    "\n",
    "datos_firebase = ref.get()\n",
    "datos_firebase2 = ref2.get()\n",
    "\n",
    "df_firebase = pd.DataFrame(datos_firebase)\n",
    "df_materias = pd.DataFrame(datos_firebase2)\n",
    "\n",
    "rating_columns = [\n",
    "    'electiva',\n",
    "    'general_rating',\n",
    "    'method_rating',\n",
    "    'personalGrowth_rating',\n",
    "    'rec_rating',\n",
    "    'teacher_rating',\n",
    "    'time_rating'\n",
    "]\n",
    "\n",
    "prefixes = ['first', 'second', 'third']\n",
    "\n",
    "df_ratings_list = []\n",
    "\n",
    "for indice, fila in df_firebase.iterrows():\n",
    "    determinante = fila['determinante_electivas']\n",
    "    \n",
    "    for i, prefix in enumerate(prefixes, start=1):\n",
    "        electiva_col = f'{prefix}_electiva'\n",
    "        general_col = f'{prefix}_general_rating'\n",
    "        method_col = f'{prefix}_method_rating'\n",
    "        personalGrowth_col = f'{prefix}_personalGrowth_rating'\n",
    "        rec_col = f'{prefix}_rec_rating'\n",
    "        teacher_col = f'{prefix}_teacher_rating'\n",
    "        time_col = f'{prefix}_time_rating'\n",
    "        \n",
    "        electiva = fila[electiva_col]\n",
    "        \n",
    "        if electiva.lower() != 'no':\n",
    "            nueva_fila = {\n",
    "                'electiva': electiva,\n",
    "                'general_rating': fila[general_col] if fila[general_col] != '' else None,\n",
    "                'method_rating': fila[method_col] if fila[method_col] != '' else None,\n",
    "                'personalGrowth_rating': fila[personalGrowth_col] if fila[personalGrowth_col] != '' else None,\n",
    "                'rec_rating': fila[rec_col] if fila[rec_col] != '' else None,\n",
    "                'teacher_rating': fila[teacher_col] if fila[teacher_col] != '' else None,\n",
    "                'time_rating': fila[time_col] if fila[time_col] != '' else None,\n",
    "            }\n",
    "            \n",
    "            df_temporal = pd.DataFrame([nueva_fila], columns=rating_columns)\n",
    "            df_ratings_list.append(df_temporal)\n",
    "\n",
    "df_ratings = pd.concat(df_ratings_list, ignore_index=True)\n",
    "df_ratings = df_ratings.dropna()\n",
    "\n",
    "def find_similar_electives(electiva_seleccionada, top_n=3):\n",
    "    selected_elective_data = df_ratings[df_ratings['electiva'] == electiva_seleccionada]\n",
    "    selected_elective_data = selected_elective_data.drop(columns=['electiva'])\n",
    "    similarity_scores = cosine_similarity(selected_elective_data, df_ratings.drop(columns=['electiva']))\n",
    "    similar_indices = similarity_scores.argsort()[0][-top_n - 1:-1][::-1]\n",
    "    similar_electives = df_ratings.iloc[similar_indices]['electiva'].tolist()\n",
    "\n",
    "    return similar_electives\n",
    "\n",
    "electiva_seleccionada = 'Innovación en servicios'\n",
    "similares = find_similar_electives(electiva_seleccionada)\n",
    "\n",
    "df_materias = df_materias.rename(columns={'class_name': 'electiva'})\n",
    "\n",
    "df_completo = pd.merge(df_ratings, df_materias, on='electiva', how='inner')\n",
    "\n",
    "df_promedios = df_ratings.groupby('electiva').agg({\n",
    "    'general_rating': 'mean',\n",
    "    'method_rating': 'mean',\n",
    "    'personalGrowth_rating': 'mean',\n",
    "    'rec_rating': 'mean',\n",
    "    'teacher_rating': 'mean',\n",
    "    'time_rating': 'mean'\n",
    "}).reset_index()\n",
    "\n",
    "df_promedios_filtrado = df_promedios.merge(df_materias, left_on='electiva', right_on='electiva')\n",
    "\n",
    "print(df_promedios_filtrado.columns)\n",
    "\n",
    "df_promedios_filtrado_no_duplicates = df_promedios_filtrado.drop_duplicates(subset='electiva', keep='first')\n",
    "\n",
    "df_promedio_dict = df_promedios_filtrado_no_duplicates.set_index('electiva').to_dict(orient='index')\n",
    "\n",
    "def convertir_calificacion(calificacion):\n",
    "    try:\n",
    "        return float(calificacion)\n",
    "    except ValueError:\n",
    "        return 0\n",
    "\n",
    "def seleccionar_electiva(datos_usuario):\n",
    "    usuario = {}\n",
    "    for elemento in datos_usuario['usuario']:\n",
    "        usuario.update(elemento)\n",
    "\n",
    "    for clave, valor in usuario.items():\n",
    "        usuario[clave] = convertir_calificacion(valor)\n",
    "\n",
    "    variables_interes = ['general_rating', 'method_rating', 'personalGrowth_rating', 'rec_rating', 'teacher_rating', 'time_rating']\n",
    "\n",
    "    similitudes = {}\n",
    "    for electiva, perfil in df_promedio_dict.items():\n",
    "        perfil_usuario = [usuario.get(k, 0) for k in variables_interes]\n",
    "        perfil_electiva = [perfil.get(k, 0) for k in variables_interes]\n",
    "\n",
    "        similitud = cosine_similarity([perfil_usuario], [perfil_electiva])[0][0]\n",
    "\n",
    "        similitudes[electiva] = similitud\n",
    "\n",
    "    electivas_afines = sorted(similitudes, key=similitudes.get, reverse=True)[:5]\n",
    "    afinidades = [similitudes[electiva] for electiva in electivas_afines]\n",
    "\n",
    "    electiva_seleccionada = None\n",
    "    for electiva in electivas_afines:\n",
    "        if df_promedio_dict[electiva]['classification'] == usuario['classification']:\n",
    "            electiva_seleccionada = electiva\n",
    "            break\n",
    "\n",
    "    if electiva_seleccionada is None:\n",
    "        electiva_seleccionada = electivas_afines[0]\n",
    "\n",
    "    afinidad = similitudes[electiva_seleccionada]\n",
    "\n",
    "    return electiva_seleccionada\n",
    "\n",
    "def construir_json(materia):\n",
    "    materia_info = df_materias[df_materias['electiva'] == materia].iloc[0]\n",
    "\n",
    "    info = {\n",
    "        \"class_name\": materia_info['electiva'],\n",
    "        \"prefer\": materia_info['classification'],\n",
    "        \"Horario\": materia_info['day'], \n",
    "        \"modalidad\": materia_info['modal'],\n",
    "        \"similares\" : find_similar_electives(materia, top_n=3)\n",
    "    }\n",
    "\n",
    "    return info\n"
   ]
  },
  {
   "cell_type": "code",
   "execution_count": null,
   "id": "f96ce3a3",
   "metadata": {},
   "outputs": [
    {
     "name": "stdout",
     "output_type": "stream",
     "text": [
      " * Serving Flask app '__main__'\n",
      " * Debug mode: off\n"
     ]
    },
    {
     "name": "stderr",
     "output_type": "stream",
     "text": [
      "WARNING: This is a development server. Do not use it in a production deployment. Use a production WSGI server instead.\n",
      " * Running on http://127.0.0.1:5000\n",
      "Press CTRL+C to quit\n",
      "127.0.0.1 - - [24/Nov/2023 20:45:54] \"OPTIONS /rec-dmi HTTP/1.1\" 200 -\n",
      "127.0.0.1 - - [24/Nov/2023 20:45:55] \"POST /rec-dmi HTTP/1.1\" 200 -\n"
     ]
    },
    {
     "name": "stdout",
     "output_type": "stream",
     "text": [
      "{'usuario': [{'general_rating': 5}, {'method_rating': '3'}, {'personalGrowth_rating': '4'}, {'rec_rating': '3'}, {'teacher_rating': '4'}, {'time_rating': 5}, {'classification': 'ux'}, {'day': 'martes'}, {'modal': 'virtual'}]}\n",
      "{'class_name': 'Innovación en modelos de negocio', 'prefer': 'UX', 'Horario': 'miercoles', 'modalidad': 'presencial', 'similares': ['Diseño de experiencia de usuario (UX & UI)', 'Estrategia de innovación', 'De otra carrrera']}\n"
     ]
    },
    {
     "name": "stderr",
     "output_type": "stream",
     "text": [
      "127.0.0.1 - - [24/Nov/2023 20:48:13] \"OPTIONS /rec-dmi HTTP/1.1\" 200 -\n",
      "127.0.0.1 - - [24/Nov/2023 20:48:13] \"POST /rec-dmi HTTP/1.1\" 200 -\n"
     ]
    },
    {
     "name": "stdout",
     "output_type": "stream",
     "text": [
      "{'usuario': [{'general_rating': 5}, {'method_rating': '4'}, {'personalGrowth_rating': '4'}, {'rec_rating': '3'}, {'teacher_rating': '5'}, {'time_rating': 5}, {'classification': 'ux'}, {'day': 'martes'}, {'modal': 'presencial'}]}\n",
      "{'class_name': 'Innovación en modelos de negocio', 'prefer': 'UX', 'Horario': 'miercoles', 'modalidad': 'presencial', 'similares': ['Diseño de experiencia de usuario (UX & UI)', 'Estrategia de innovación', 'De otra carrrera']}\n"
     ]
    },
    {
     "name": "stderr",
     "output_type": "stream",
     "text": [
      "127.0.0.1 - - [24/Nov/2023 21:21:14] \"OPTIONS /rec-dmi HTTP/1.1\" 200 -\n",
      "127.0.0.1 - - [24/Nov/2023 21:21:14] \"POST /rec-dmi HTTP/1.1\" 200 -\n"
     ]
    },
    {
     "name": "stdout",
     "output_type": "stream",
     "text": [
      "{'usuario': [{'general_rating': 5}, {'method_rating': '3'}, {'personalGrowth_rating': '3'}, {'rec_rating': '3'}, {'teacher_rating': '4'}, {'time_rating': 5}, {'classification': 'ui'}, {'day': 'miercoles'}, {'modal': 'presencial'}]}\n",
      "{'class_name': 'Innovación en modelos de negocio', 'prefer': 'UX', 'Horario': 'miercoles', 'modalidad': 'presencial', 'similares': ['Diseño de experiencia de usuario (UX & UI)', 'Estrategia de innovación', 'De otra carrrera']}\n"
     ]
    },
    {
     "name": "stderr",
     "output_type": "stream",
     "text": [
      "127.0.0.1 - - [24/Nov/2023 21:24:51] \"OPTIONS /rec-dmi HTTP/1.1\" 200 -\n",
      "127.0.0.1 - - [24/Nov/2023 21:24:51] \"POST /rec-dmi HTTP/1.1\" 200 -\n"
     ]
    },
    {
     "name": "stdout",
     "output_type": "stream",
     "text": [
      "{'usuario': [{'general_rating': 5}, {'method_rating': '3'}, {'personalGrowth_rating': '3'}, {'rec_rating': '4'}, {'teacher_rating': '4'}, {'time_rating': 5}, {'classification': 'ui'}, {'day': 'martes'}, {'modal': 'virtual'}]}\n",
      "{'class_name': 'Innovación en modelos de negocio', 'prefer': 'UX', 'Horario': 'miercoles', 'modalidad': 'presencial', 'similares': ['Diseño de experiencia de usuario (UX & UI)', 'Estrategia de innovación', 'De otra carrrera']}\n"
     ]
    },
    {
     "name": "stderr",
     "output_type": "stream",
     "text": [
      "127.0.0.1 - - [24/Nov/2023 21:25:50] \"OPTIONS /rec-dmi HTTP/1.1\" 200 -\n",
      "127.0.0.1 - - [24/Nov/2023 21:25:51] \"POST /rec-dmi HTTP/1.1\" 200 -\n"
     ]
    },
    {
     "name": "stdout",
     "output_type": "stream",
     "text": [
      "{'usuario': [{'general_rating': 5}, {'method_rating': '3'}, {'personalGrowth_rating': '2'}, {'rec_rating': '2'}, {'teacher_rating': '4'}, {'time_rating': 5}, {'classification': 'ui'}, {'day': 'martes'}, {'modal': 'virtual'}]}\n",
      "{'class_name': 'Innovación en modelos de negocio', 'prefer': 'UX', 'Horario': 'miercoles', 'modalidad': 'presencial', 'similares': ['Diseño de experiencia de usuario (UX & UI)', 'Estrategia de innovación', 'De otra carrrera']}\n"
     ]
    },
    {
     "name": "stderr",
     "output_type": "stream",
     "text": [
      "127.0.0.1 - - [24/Nov/2023 21:29:46] \"OPTIONS /rec-dmi HTTP/1.1\" 200 -\n",
      "127.0.0.1 - - [24/Nov/2023 21:29:47] \"POST /rec-dmi HTTP/1.1\" 200 -\n"
     ]
    },
    {
     "name": "stdout",
     "output_type": "stream",
     "text": [
      "{'usuario': [{'general_rating': 5}, {'method_rating': '4'}, {'personalGrowth_rating': '2'}, {'rec_rating': '4'}, {'teacher_rating': '5'}, {'time_rating': 5}, {'classification': 'ui'}, {'day': 'miercoles'}, {'modal': 'virtual'}]}\n",
      "{'class_name': 'Innovación en modelos de negocio', 'prefer': 'UX', 'Horario': 'miercoles', 'modalidad': 'presencial', 'similares': ['Diseño de experiencia de usuario (UX & UI)', 'Estrategia de innovación', 'De otra carrrera']}\n"
     ]
    },
    {
     "name": "stderr",
     "output_type": "stream",
     "text": [
      "127.0.0.1 - - [24/Nov/2023 21:52:32] \"OPTIONS /rec-dmi HTTP/1.1\" 200 -\n",
      "127.0.0.1 - - [24/Nov/2023 21:52:32] \"POST /rec-dmi HTTP/1.1\" 200 -\n"
     ]
    },
    {
     "name": "stdout",
     "output_type": "stream",
     "text": [
      "{'usuario': [{'general_rating': 5}, {'method_rating': '3'}, {'personalGrowth_rating': '2'}, {'rec_rating': '3'}, {'teacher_rating': '3'}, {'time_rating': 5}, {'classification': 'ui'}, {'day': 'miercoles'}, {'modal': 'presencial'}]}\n",
      "{'class_name': 'Innovación en modelos de negocio', 'prefer': 'UX', 'Horario': 'miercoles', 'modalidad': 'presencial', 'similares': ['Diseño de experiencia de usuario (UX & UI)', 'Estrategia de innovación', 'De otra carrrera']}\n"
     ]
    },
    {
     "name": "stderr",
     "output_type": "stream",
     "text": [
      "127.0.0.1 - - [24/Nov/2023 21:58:09] \"OPTIONS /rec-dmi HTTP/1.1\" 200 -\n",
      "127.0.0.1 - - [24/Nov/2023 21:58:09] \"POST /rec-dmi HTTP/1.1\" 200 -\n"
     ]
    },
    {
     "name": "stdout",
     "output_type": "stream",
     "text": [
      "{'usuario': [{'general_rating': 5}, {'method_rating': '3'}, {'personalGrowth_rating': '3'}, {'rec_rating': '3'}, {'teacher_rating': '5'}, {'time_rating': 5}, {'classification': 'develop'}, {'day': 'martes'}, {'modal': 'virtual'}]}\n",
      "{'class_name': 'Innovación en modelos de negocio', 'prefer': 'UX', 'Horario': 'miercoles', 'modalidad': 'presencial', 'similares': ['Diseño de experiencia de usuario (UX & UI)', 'Estrategia de innovación', 'De otra carrrera']}\n"
     ]
    },
    {
     "name": "stderr",
     "output_type": "stream",
     "text": [
      "127.0.0.1 - - [24/Nov/2023 22:06:59] \"OPTIONS /rec-dmi HTTP/1.1\" 200 -\n",
      "127.0.0.1 - - [24/Nov/2023 22:07:00] \"POST /rec-dmi HTTP/1.1\" 200 -\n"
     ]
    },
    {
     "name": "stdout",
     "output_type": "stream",
     "text": [
      "{'usuario': [{'general_rating': 5}, {'method_rating': '2'}, {'personalGrowth_rating': '2'}, {'rec_rating': '5'}, {'teacher_rating': '4'}, {'time_rating': 5}, {'classification': 'ui'}, {'day': 'lunes'}, {'modal': 'virtual'}]}\n",
      "{'class_name': 'Estrategia de innovación', 'prefer': 'UX', 'Horario': 'viernes', 'modalidad': 'presencial', 'similares': ['De otra carrrera', 'Postproducción fotográfica', 'Innovación en modelos de negocio']}\n"
     ]
    },
    {
     "name": "stderr",
     "output_type": "stream",
     "text": [
      "127.0.0.1 - - [24/Nov/2023 22:09:44] \"OPTIONS /rec-dmi HTTP/1.1\" 200 -\n",
      "127.0.0.1 - - [24/Nov/2023 22:09:44] \"POST /rec-dmi HTTP/1.1\" 200 -\n"
     ]
    },
    {
     "name": "stdout",
     "output_type": "stream",
     "text": [
      "{'usuario': [{'general_rating': 5}, {'method_rating': '3'}, {'personalGrowth_rating': '2'}, {'rec_rating': '1'}, {'teacher_rating': '4'}, {'time_rating': 5}, {'classification': 'develop'}, {'day': 'jueves'}, {'modal': 'virtual'}]}\n",
      "{'class_name': 'Innovación en modelos de negocio', 'prefer': 'UX', 'Horario': 'miercoles', 'modalidad': 'presencial', 'similares': ['Diseño de experiencia de usuario (UX & UI)', 'Estrategia de innovación', 'De otra carrrera']}\n"
     ]
    },
    {
     "name": "stderr",
     "output_type": "stream",
     "text": [
      "127.0.0.1 - - [24/Nov/2023 22:10:33] \"OPTIONS /rec-dmi HTTP/1.1\" 200 -\n",
      "127.0.0.1 - - [24/Nov/2023 22:10:33] \"POST /rec-dmi HTTP/1.1\" 200 -\n"
     ]
    },
    {
     "name": "stdout",
     "output_type": "stream",
     "text": [
      "{'usuario': [{'general_rating': 5}, {'method_rating': '3'}, {'personalGrowth_rating': '3'}, {'rec_rating': '4'}, {'teacher_rating': '4'}, {'time_rating': 5}, {'classification': 'ui'}, {'day': 'miercoles'}, {'modal': 'presencial'}]}\n",
      "{'class_name': 'Innovación en modelos de negocio', 'prefer': 'UX', 'Horario': 'miercoles', 'modalidad': 'presencial', 'similares': ['Diseño de experiencia de usuario (UX & UI)', 'Estrategia de innovación', 'De otra carrrera']}\n"
     ]
    },
    {
     "name": "stderr",
     "output_type": "stream",
     "text": [
      "127.0.0.1 - - [24/Nov/2023 22:13:33] \"OPTIONS /rec-dmi HTTP/1.1\" 200 -\n",
      "127.0.0.1 - - [24/Nov/2023 22:13:33] \"POST /rec-dmi HTTP/1.1\" 200 -\n"
     ]
    },
    {
     "name": "stdout",
     "output_type": "stream",
     "text": [
      "{'usuario': [{'general_rating': 5}, {'method_rating': '1'}, {'personalGrowth_rating': '1'}, {'rec_rating': '1'}, {'teacher_rating': '1'}, {'time_rating': 5}, {'classification': 'ui'}, {'day': 'lunes'}, {'modal': 'virtual'}]}\n",
      "{'class_name': 'Innovación en modelos de negocio', 'prefer': 'UX', 'Horario': 'miercoles', 'modalidad': 'presencial', 'similares': ['Diseño de experiencia de usuario (UX & UI)', 'Estrategia de innovación', 'De otra carrrera']}\n"
     ]
    },
    {
     "name": "stderr",
     "output_type": "stream",
     "text": [
      "127.0.0.1 - - [24/Nov/2023 22:15:55] \"OPTIONS /rec-dmi HTTP/1.1\" 200 -\n",
      "127.0.0.1 - - [24/Nov/2023 22:15:55] \"POST /rec-dmi HTTP/1.1\" 200 -\n"
     ]
    },
    {
     "name": "stdout",
     "output_type": "stream",
     "text": [
      "{'usuario': [{'general_rating': 5}, {'method_rating': '1'}, {'personalGrowth_rating': '1'}, {'rec_rating': '1'}, {'teacher_rating': '1'}, {'time_rating': 5}, {'classification': 'ui'}, {'day': 'martes'}, {'modal': 'virtual'}]}\n",
      "{'class_name': 'Innovación en modelos de negocio', 'prefer': 'UX', 'Horario': 'miercoles', 'modalidad': 'presencial', 'similares': ['Diseño de experiencia de usuario (UX & UI)', 'Estrategia de innovación', 'De otra carrrera']}\n"
     ]
    },
    {
     "name": "stderr",
     "output_type": "stream",
     "text": [
      "127.0.0.1 - - [24/Nov/2023 22:16:10] \"OPTIONS /rec-dmi HTTP/1.1\" 200 -\n",
      "127.0.0.1 - - [24/Nov/2023 22:16:11] \"POST /rec-dmi HTTP/1.1\" 200 -\n"
     ]
    },
    {
     "name": "stdout",
     "output_type": "stream",
     "text": [
      "{'usuario': [{'general_rating': 5}, {'method_rating': '3'}, {'personalGrowth_rating': '3'}, {'rec_rating': '2'}, {'teacher_rating': '3'}, {'time_rating': 5}, {'classification': 'ui'}, {'day': 'martes'}, {'modal': 'presencial'}]}\n",
      "{'class_name': 'Innovación en modelos de negocio', 'prefer': 'UX', 'Horario': 'miercoles', 'modalidad': 'presencial', 'similares': ['Diseño de experiencia de usuario (UX & UI)', 'Estrategia de innovación', 'De otra carrrera']}\n"
     ]
    },
    {
     "name": "stderr",
     "output_type": "stream",
     "text": [
      "127.0.0.1 - - [24/Nov/2023 22:17:10] \"OPTIONS /rec-dmi HTTP/1.1\" 200 -\n",
      "127.0.0.1 - - [24/Nov/2023 22:17:11] \"POST /rec-dmi HTTP/1.1\" 200 -\n"
     ]
    },
    {
     "name": "stdout",
     "output_type": "stream",
     "text": [
      "{'usuario': [{'general_rating': 5}, {'method_rating': '3'}, {'personalGrowth_rating': '3'}, {'rec_rating': '2'}, {'teacher_rating': '2'}, {'time_rating': 5}, {'classification': 'develop'}, {'day': 'martes'}, {'modal': 'virtual'}]}\n",
      "{'class_name': 'Innovación en modelos de negocio', 'prefer': 'UX', 'Horario': 'miercoles', 'modalidad': 'presencial', 'similares': ['Diseño de experiencia de usuario (UX & UI)', 'Estrategia de innovación', 'De otra carrrera']}\n"
     ]
    },
    {
     "name": "stderr",
     "output_type": "stream",
     "text": [
      "127.0.0.1 - - [24/Nov/2023 22:19:36] \"OPTIONS /rec-dmi HTTP/1.1\" 200 -\n",
      "127.0.0.1 - - [24/Nov/2023 22:19:36] \"POST /rec-dmi HTTP/1.1\" 200 -\n"
     ]
    },
    {
     "name": "stdout",
     "output_type": "stream",
     "text": [
      "{'usuario': [{'general_rating': 5}, {'method_rating': '3'}, {'personalGrowth_rating': '4'}, {'rec_rating': '3'}, {'teacher_rating': '3'}, {'time_rating': 5}, {'classification': 'ui'}, {'day': 'martes'}, {'modal': 'semipresencial'}]}\n",
      "{'class_name': 'Marketing sensorial', 'prefer': 'UI', 'Horario': 'miercoles', 'modalidad': 'presencial', 'similares': ['De otra carrrera', 'Investigación de usuarios para UX', 'Postproducción fotográfica']}\n"
     ]
    },
    {
     "name": "stderr",
     "output_type": "stream",
     "text": [
      "127.0.0.1 - - [24/Nov/2023 22:20:55] \"OPTIONS /rec-dmi HTTP/1.1\" 200 -\n",
      "127.0.0.1 - - [24/Nov/2023 22:20:56] \"POST /rec-dmi HTTP/1.1\" 200 -\n"
     ]
    },
    {
     "name": "stdout",
     "output_type": "stream",
     "text": [
      "{'usuario': [{'general_rating': 5}, {'method_rating': '2'}, {'personalGrowth_rating': '2'}, {'rec_rating': '4'}, {'teacher_rating': '3'}, {'time_rating': 5}, {'classification': 'develop'}, {'day': 'lunes'}, {'modal': 'virtual'}]}\n",
      "{'class_name': 'Estrategia de innovación', 'prefer': 'UX', 'Horario': 'viernes', 'modalidad': 'presencial', 'similares': ['De otra carrrera', 'Postproducción fotográfica', 'Innovación en modelos de negocio']}\n"
     ]
    },
    {
     "name": "stderr",
     "output_type": "stream",
     "text": [
      "127.0.0.1 - - [24/Nov/2023 22:26:27] \"OPTIONS /rec-dmi HTTP/1.1\" 200 -\n",
      "127.0.0.1 - - [24/Nov/2023 22:26:27] \"POST /rec-dmi HTTP/1.1\" 200 -\n"
     ]
    },
    {
     "name": "stdout",
     "output_type": "stream",
     "text": [
      "{'usuario': [{'general_rating': 5}, {'method_rating': '3'}, {'personalGrowth_rating': '4'}, {'rec_rating': '3'}, {'teacher_rating': '2'}, {'time_rating': 5}, {'classification': 'ui'}, {'day': 'miercoles'}, {'modal': 'virtual'}]}\n",
      "{'class_name': 'Marketing sensorial', 'prefer': 'UI', 'Horario': 'miercoles', 'modalidad': 'presencial', 'similares': ['De otra carrrera', 'Investigación de usuarios para UX', 'Postproducción fotográfica']}\n"
     ]
    },
    {
     "name": "stderr",
     "output_type": "stream",
     "text": [
      "127.0.0.1 - - [24/Nov/2023 22:27:06] \"OPTIONS /rec-dmi HTTP/1.1\" 200 -\n",
      "127.0.0.1 - - [24/Nov/2023 22:27:07] \"POST /rec-dmi HTTP/1.1\" 200 -\n"
     ]
    },
    {
     "name": "stdout",
     "output_type": "stream",
     "text": [
      "{'usuario': [{'general_rating': 5}, {'method_rating': '5'}, {'personalGrowth_rating': '3'}, {'rec_rating': '3'}, {'teacher_rating': '1'}, {'time_rating': 5}, {'classification': 'ui'}, {'day': 'lunes'}, {'modal': 'presencial'}]}\n",
      "{'class_name': 'Marketing sensorial', 'prefer': 'UI', 'Horario': 'miercoles', 'modalidad': 'presencial', 'similares': ['De otra carrrera', 'Investigación de usuarios para UX', 'Postproducción fotográfica']}\n"
     ]
    },
    {
     "name": "stderr",
     "output_type": "stream",
     "text": [
      "127.0.0.1 - - [24/Nov/2023 22:28:15] \"OPTIONS /rec-dmi HTTP/1.1\" 200 -\n",
      "127.0.0.1 - - [24/Nov/2023 22:28:15] \"POST /rec-dmi HTTP/1.1\" 200 -\n"
     ]
    },
    {
     "name": "stdout",
     "output_type": "stream",
     "text": [
      "{'usuario': [{'general_rating': 5}, {'method_rating': '3'}, {'personalGrowth_rating': '4'}, {'rec_rating': '2'}, {'teacher_rating': '3'}, {'time_rating': 5}, {'classification': 'ux'}, {'day': 'martes'}, {'modal': 'virtual'}]}\n",
      "{'class_name': 'Administración de empresas familiares', 'prefer': 'other', 'Horario': 'martes', 'modalidad': 'presencial', 'similares': ['Innovación en servicios', 'Internet de las cosas', 'Analítica de datos']}\n"
     ]
    },
    {
     "name": "stderr",
     "output_type": "stream",
     "text": [
      "127.0.0.1 - - [24/Nov/2023 22:29:09] \"OPTIONS /rec-dmi HTTP/1.1\" 200 -\n",
      "127.0.0.1 - - [24/Nov/2023 22:29:09] \"POST /rec-dmi HTTP/1.1\" 200 -\n"
     ]
    },
    {
     "name": "stdout",
     "output_type": "stream",
     "text": [
      "{'usuario': [{'general_rating': 5}, {'method_rating': '3'}, {'personalGrowth_rating': '3'}, {'rec_rating': '3'}, {'teacher_rating': '3'}, {'time_rating': 5}, {'classification': 'ui'}, {'day': 'martes'}, {'modal': 'presencial'}]}\n",
      "{'class_name': 'Innovación en modelos de negocio', 'prefer': 'UX', 'Horario': 'miercoles', 'modalidad': 'presencial', 'similares': ['Diseño de experiencia de usuario (UX & UI)', 'Estrategia de innovación', 'De otra carrrera']}\n"
     ]
    },
    {
     "name": "stderr",
     "output_type": "stream",
     "text": [
      "127.0.0.1 - - [24/Nov/2023 22:30:12] \"OPTIONS /rec-dmi HTTP/1.1\" 200 -\n",
      "127.0.0.1 - - [24/Nov/2023 22:30:13] \"POST /rec-dmi HTTP/1.1\" 200 -\n"
     ]
    },
    {
     "name": "stdout",
     "output_type": "stream",
     "text": [
      "{'usuario': [{'general_rating': 5}, {'method_rating': '3'}, {'personalGrowth_rating': '3'}, {'rec_rating': '3'}, {'teacher_rating': '3'}, {'time_rating': 5}, {'classification': 'ui'}, {'day': 'martes'}, {'modal': 'virtual'}]}\n",
      "{'class_name': 'Innovación en modelos de negocio', 'prefer': 'UX', 'Horario': 'miercoles', 'modalidad': 'presencial', 'similares': ['Diseño de experiencia de usuario (UX & UI)', 'Estrategia de innovación', 'De otra carrrera']}\n"
     ]
    },
    {
     "name": "stderr",
     "output_type": "stream",
     "text": [
      "127.0.0.1 - - [24/Nov/2023 22:31:02] \"OPTIONS /rec-dmi HTTP/1.1\" 200 -\n",
      "127.0.0.1 - - [24/Nov/2023 22:31:02] \"POST /rec-dmi HTTP/1.1\" 200 -\n"
     ]
    },
    {
     "name": "stdout",
     "output_type": "stream",
     "text": [
      "{'usuario': [{'general_rating': 5}, {'method_rating': '3'}, {'personalGrowth_rating': '4'}, {'rec_rating': '4'}, {'teacher_rating': '3'}, {'time_rating': 5}, {'classification': 'ui'}, {'day': 'miercoles'}, {'modal': 'semipresencial'}]}\n",
      "{'class_name': 'Marketing sensorial', 'prefer': 'UI', 'Horario': 'miercoles', 'modalidad': 'presencial', 'similares': ['De otra carrrera', 'Investigación de usuarios para UX', 'Postproducción fotográfica']}\n"
     ]
    },
    {
     "name": "stderr",
     "output_type": "stream",
     "text": [
      "127.0.0.1 - - [24/Nov/2023 22:39:59] \"OPTIONS /rec-dmi HTTP/1.1\" 200 -\n",
      "127.0.0.1 - - [24/Nov/2023 22:39:59] \"POST /rec-dmi HTTP/1.1\" 200 -\n"
     ]
    },
    {
     "name": "stdout",
     "output_type": "stream",
     "text": [
      "{'usuario': [{'general_rating': 5}, {'method_rating': '3'}, {'personalGrowth_rating': '3'}, {'rec_rating': '3'}, {'teacher_rating': '3'}, {'time_rating': 5}, {'classification': 'ui'}, {'day': 'lunes'}, {'modal': 'semipresencial'}]}\n",
      "{'class_name': 'Innovación en modelos de negocio', 'prefer': 'UX', 'Horario': 'miercoles', 'modalidad': 'presencial', 'similares': ['Diseño de experiencia de usuario (UX & UI)', 'Estrategia de innovación', 'De otra carrrera']}\n"
     ]
    },
    {
     "name": "stderr",
     "output_type": "stream",
     "text": [
      "127.0.0.1 - - [24/Nov/2023 22:54:01] \"OPTIONS /rec-dmi HTTP/1.1\" 200 -\n",
      "127.0.0.1 - - [24/Nov/2023 22:54:02] \"POST /rec-dmi HTTP/1.1\" 200 -\n"
     ]
    },
    {
     "name": "stdout",
     "output_type": "stream",
     "text": [
      "{'usuario': [{'general_rating': 5}, {'method_rating': '4'}, {'personalGrowth_rating': '3'}, {'rec_rating': '3'}, {'teacher_rating': '3'}, {'time_rating': 5}, {'classification': 'ui'}, {'day': 'martes'}, {'modal': 'virtual'}]}\n",
      "{'class_name': 'Innovación en modelos de negocio', 'prefer': 'UX', 'Horario': 'miercoles', 'modalidad': 'presencial', 'similares': ['Diseño de experiencia de usuario (UX & UI)', 'Estrategia de innovación', 'De otra carrrera']}\n"
     ]
    },
    {
     "name": "stderr",
     "output_type": "stream",
     "text": [
      "127.0.0.1 - - [24/Nov/2023 23:12:41] \"OPTIONS /rec-dmi HTTP/1.1\" 200 -\n",
      "127.0.0.1 - - [24/Nov/2023 23:12:41] \"POST /rec-dmi HTTP/1.1\" 200 -\n"
     ]
    },
    {
     "name": "stdout",
     "output_type": "stream",
     "text": [
      "{'usuario': [{'general_rating': 5}, {'method_rating': '1'}, {'personalGrowth_rating': '1'}, {'rec_rating': '1'}, {'teacher_rating': '1'}, {'time_rating': 5}, {'classification': 'ui'}, {'day': 'martes'}, {'modal': 'presencial'}]}\n",
      "{'class_name': 'Innovación en modelos de negocio', 'prefer': 'UX', 'Horario': 'miercoles', 'modalidad': 'presencial', 'similares': ['Diseño de experiencia de usuario (UX & UI)', 'Estrategia de innovación', 'De otra carrrera']}\n"
     ]
    },
    {
     "name": "stderr",
     "output_type": "stream",
     "text": [
      "127.0.0.1 - - [24/Nov/2023 23:17:54] \"OPTIONS /rec-dmi HTTP/1.1\" 200 -\n",
      "127.0.0.1 - - [24/Nov/2023 23:17:55] \"POST /rec-dmi HTTP/1.1\" 200 -\n"
     ]
    },
    {
     "name": "stdout",
     "output_type": "stream",
     "text": [
      "{'usuario': [{'general_rating': 5}, {'method_rating': '1'}, {'personalGrowth_rating': '1'}, {'rec_rating': '1'}, {'teacher_rating': '1'}, {'time_rating': 5}, {'classification': 'other'}, {'day': 'martes'}, {'modal': 'presencial'}]}\n",
      "{'class_name': 'Innovación en modelos de negocio', 'prefer': 'UX', 'Horario': 'miercoles', 'modalidad': 'presencial', 'similares': ['Diseño de experiencia de usuario (UX & UI)', 'Estrategia de innovación', 'De otra carrrera']}\n"
     ]
    },
    {
     "name": "stderr",
     "output_type": "stream",
     "text": [
      "127.0.0.1 - - [24/Nov/2023 23:28:15] \"OPTIONS /rec-dmi HTTP/1.1\" 200 -\n",
      "127.0.0.1 - - [24/Nov/2023 23:28:15] \"POST /rec-dmi HTTP/1.1\" 200 -\n"
     ]
    },
    {
     "name": "stdout",
     "output_type": "stream",
     "text": [
      "{'usuario': [{'general_rating': 5}, {'method_rating': '1'}, {'personalGrowth_rating': '1'}, {'rec_rating': '1'}, {'teacher_rating': '1'}, {'time_rating': 5}, {'classification': 'ui'}, {'day': 'martes'}, {'modal': 'virtual'}]}\n",
      "{'class_name': 'Innovación en modelos de negocio', 'prefer': 'UX', 'Horario': 'miercoles', 'modalidad': 'presencial', 'similares': ['Diseño de experiencia de usuario (UX & UI)', 'Estrategia de innovación', 'De otra carrrera']}\n"
     ]
    },
    {
     "name": "stderr",
     "output_type": "stream",
     "text": [
      "127.0.0.1 - - [24/Nov/2023 23:30:25] \"OPTIONS /rec-dmi HTTP/1.1\" 200 -\n",
      "127.0.0.1 - - [24/Nov/2023 23:30:26] \"POST /rec-dmi HTTP/1.1\" 200 -\n"
     ]
    },
    {
     "name": "stdout",
     "output_type": "stream",
     "text": [
      "{'usuario': [{'general_rating': 5}, {'method_rating': '1'}, {'personalGrowth_rating': '1'}, {'rec_rating': '1'}, {'teacher_rating': '1'}, {'time_rating': 5}, {'classification': 'ux'}, {'day': 'jueves'}, {'modal': 'semipresencial'}]}\n",
      "{'class_name': 'Innovación en modelos de negocio', 'prefer': 'UX', 'Horario': 'miercoles', 'modalidad': 'presencial', 'similares': ['Diseño de experiencia de usuario (UX & UI)', 'Estrategia de innovación', 'De otra carrrera']}\n"
     ]
    },
    {
     "name": "stderr",
     "output_type": "stream",
     "text": [
      "127.0.0.1 - - [24/Nov/2023 23:34:28] \"OPTIONS /rec-dmi HTTP/1.1\" 200 -\n",
      "127.0.0.1 - - [24/Nov/2023 23:34:28] \"POST /rec-dmi HTTP/1.1\" 200 -\n"
     ]
    },
    {
     "name": "stdout",
     "output_type": "stream",
     "text": [
      "{'usuario': [{'general_rating': 5}, {'method_rating': '1'}, {'personalGrowth_rating': '1'}, {'rec_rating': '1'}, {'teacher_rating': '1'}, {'time_rating': 5}, {'classification': 'develop'}, {'day': 'martes'}, {'modal': 'virtual'}]}\n",
      "{'class_name': 'Innovación en modelos de negocio', 'prefer': 'UX', 'Horario': 'miercoles', 'modalidad': 'presencial', 'similares': ['Diseño de experiencia de usuario (UX & UI)', 'Estrategia de innovación', 'De otra carrrera']}\n"
     ]
    },
    {
     "name": "stderr",
     "output_type": "stream",
     "text": [
      "127.0.0.1 - - [24/Nov/2023 23:37:41] \"OPTIONS /rec-dmi HTTP/1.1\" 200 -\n",
      "127.0.0.1 - - [24/Nov/2023 23:37:41] \"POST /rec-dmi HTTP/1.1\" 200 -\n"
     ]
    },
    {
     "name": "stdout",
     "output_type": "stream",
     "text": [
      "{'usuario': [{'general_rating': 5}, {'method_rating': '1'}, {'personalGrowth_rating': '1'}, {'rec_rating': '1'}, {'teacher_rating': '1'}, {'time_rating': 5}, {'classification': 'ui'}, {'day': 'miercoles'}, {'modal': 'virtual'}]}\n",
      "{'class_name': 'Innovación en modelos de negocio', 'prefer': 'UX', 'Horario': 'miercoles', 'modalidad': 'presencial', 'similares': ['Diseño de experiencia de usuario (UX & UI)', 'Estrategia de innovación', 'De otra carrrera']}\n"
     ]
    },
    {
     "name": "stderr",
     "output_type": "stream",
     "text": [
      "127.0.0.1 - - [24/Nov/2023 23:38:30] \"OPTIONS /rec-dmi HTTP/1.1\" 200 -\n",
      "127.0.0.1 - - [24/Nov/2023 23:38:31] \"POST /rec-dmi HTTP/1.1\" 200 -\n"
     ]
    },
    {
     "name": "stdout",
     "output_type": "stream",
     "text": [
      "{'usuario': [{'general_rating': 5}, {'method_rating': '1'}, {'personalGrowth_rating': '1'}, {'rec_rating': '1'}, {'teacher_rating': '1'}, {'time_rating': 5}, {'classification': 'ux'}, {'day': 'miercoles'}, {'modal': 'virtual'}]}\n",
      "{'class_name': 'Innovación en modelos de negocio', 'prefer': 'UX', 'Horario': 'miercoles', 'modalidad': 'presencial', 'similares': ['Diseño de experiencia de usuario (UX & UI)', 'Estrategia de innovación', 'De otra carrrera']}\n"
     ]
    },
    {
     "name": "stderr",
     "output_type": "stream",
     "text": [
      "127.0.0.1 - - [24/Nov/2023 23:46:49] \"OPTIONS /rec-dmi HTTP/1.1\" 200 -\n",
      "127.0.0.1 - - [24/Nov/2023 23:46:49] \"POST /rec-dmi HTTP/1.1\" 200 -\n"
     ]
    },
    {
     "name": "stdout",
     "output_type": "stream",
     "text": [
      "{'usuario': [{'general_rating': 5}, {'method_rating': '1'}, {'personalGrowth_rating': '1'}, {'rec_rating': '1'}, {'teacher_rating': '1'}, {'time_rating': 5}, {'classification': 'ux'}, {'day': 'miercoles'}, {'modal': 'virtual'}]}\n",
      "{'class_name': 'Innovación en modelos de negocio', 'prefer': 'UX', 'Horario': 'miercoles', 'modalidad': 'presencial', 'similares': ['Diseño de experiencia de usuario (UX & UI)', 'Estrategia de innovación', 'De otra carrrera']}\n"
     ]
    },
    {
     "name": "stderr",
     "output_type": "stream",
     "text": [
      "127.0.0.1 - - [24/Nov/2023 23:50:27] \"OPTIONS /rec-dmi HTTP/1.1\" 200 -\n",
      "127.0.0.1 - - [24/Nov/2023 23:50:27] \"POST /rec-dmi HTTP/1.1\" 200 -\n"
     ]
    },
    {
     "name": "stdout",
     "output_type": "stream",
     "text": [
      "{'usuario': [{'general_rating': 5}, {'method_rating': '1'}, {'personalGrowth_rating': '1'}, {'rec_rating': '1'}, {'teacher_rating': '1'}, {'time_rating': 5}, {'classification': 'ux'}, {'day': 'miercoles'}, {'modal': 'virtual'}]}\n",
      "{'class_name': 'Innovación en modelos de negocio', 'prefer': 'UX', 'Horario': 'miercoles', 'modalidad': 'presencial', 'similares': ['Diseño de experiencia de usuario (UX & UI)', 'Estrategia de innovación', 'De otra carrrera']}\n"
     ]
    }
   ],
   "source": [
    "from flask import Flask, request, jsonify\n",
    "from flask_cors import CORS\n",
    "\n",
    "app = Flask(__name__)\n",
    "CORS(app)\n",
    "\n",
    "@app.route('/rec-dmi', methods=['POST'])\n",
    "def recibir_datos():\n",
    "    datos_recibidos = request.json  \n",
    "    print(datos_recibidos)\n",
    "    datos_usuario = datos_recibidos\n",
    "    electiva_seleccionada = seleccionar_electiva(datos_usuario)\n",
    "    respuesta = construir_json(electiva_seleccionada)\n",
    "    print(respuesta)\n",
    "    return respuesta\n",
    "\n",
    "if __name__ == '__main__':\n",
    "    app.run(port=5000) "
   ]
  },
  {
   "cell_type": "code",
   "execution_count": null,
   "id": "c34ec28c",
   "metadata": {},
   "outputs": [],
   "source": []
  },
  {
   "cell_type": "code",
   "execution_count": null,
   "id": "76231495",
   "metadata": {},
   "outputs": [],
   "source": []
  }
 ],
 "metadata": {
  "kernelspec": {
   "display_name": "Python 3 (ipykernel)",
   "language": "python",
   "name": "python3"
  },
  "language_info": {
   "codemirror_mode": {
    "name": "ipython",
    "version": 3
   },
   "file_extension": ".py",
   "mimetype": "text/x-python",
   "name": "python",
   "nbconvert_exporter": "python",
   "pygments_lexer": "ipython3",
   "version": "3.11.3"
  }
 },
 "nbformat": 4,
 "nbformat_minor": 5
}
