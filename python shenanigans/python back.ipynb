{
 "cells": [
  {
   "cell_type": "code",
   "execution_count": 3,
   "id": "cecaf891",
   "metadata": {},
   "outputs": [
    {
     "name": "stdout",
     "output_type": "stream",
     "text": [
      "                                          electiva  general_rating  \\\n",
      "0   Creación de experiencias para realidades VR-AR             4.0   \n",
      "2                          Innovación en servicios             3.0   \n",
      "3                       Postproducción fotográfica             4.0   \n",
      "4                Investigación de usuarios para UX             5.0   \n",
      "5                               Analítica de datos             2.0   \n",
      "..                                             ...             ...   \n",
      "71                                    Web avanzada             4.0   \n",
      "72               Investigación de usuarios para UX             4.0   \n",
      "74                                        Branding             5.0   \n",
      "75                      Postproducción fotográfica             5.0   \n",
      "76               Investigación de usuarios para UX             4.0   \n",
      "\n",
      "    method_rating  personalGrowth_rating  rec_rating  teacher_rating  \\\n",
      "0             5.0                    4.0         3.0             4.0   \n",
      "2             3.0                    3.0         2.0             4.0   \n",
      "3             5.0                    4.0         4.0             4.0   \n",
      "4             5.0                    5.0         5.0             5.0   \n",
      "5             1.0                    4.0         1.0             5.0   \n",
      "..            ...                    ...         ...             ...   \n",
      "71            5.0                    5.0         3.0             4.0   \n",
      "72            5.0                    4.0         5.0             5.0   \n",
      "74            4.0                    4.0         4.0             4.0   \n",
      "75            5.0                    5.0         5.0             5.0   \n",
      "76            5.0                    5.0         5.0             5.0   \n",
      "\n",
      "    time_rating  \n",
      "0           2.0  \n",
      "2           4.0  \n",
      "3           1.0  \n",
      "4           5.0  \n",
      "5           4.0  \n",
      "..          ...  \n",
      "71          4.0  \n",
      "72          5.0  \n",
      "74          4.0  \n",
      "75          5.0  \n",
      "76          5.0  \n",
      "\n",
      "[65 rows x 7 columns]\n"
     ]
    }
   ],
   "source": [
    "import pandas as pd\n",
    "import firebase_admin\n",
    "from firebase_admin import credentials, db\n",
    "from sklearn.metrics.pairwise import cosine_similarity\n",
    "\n",
    "if not firebase_admin._apps:\n",
    "    \n",
    "    cred = credentials.Certificate('nope.json')\n",
    "    firebase_admin.initialize_app(cred, {\n",
    "        'databaseURL': 'https://sistema-rec-dmi-default-rtdb.firebaseio.com/'\n",
    "    })\n",
    "ref = db.reference('/base_usuarios') \n",
    "\n",
    "datos_firebase = ref.get()\n",
    "\n",
    "df_firebase = pd.DataFrame(datos_firebase)\n",
    "\n",
    "rating_columns = [\n",
    "    'electiva',\n",
    "    'general_rating',\n",
    "    'method_rating',\n",
    "    'personalGrowth_rating',\n",
    "    'rec_rating',\n",
    "    'teacher_rating',\n",
    "    'time_rating'\n",
    "]\n",
    "\n",
    "prefixes = ['first', 'second', 'third']\n",
    "\n",
    "df_ratings_list = []\n",
    "\n",
    "for indice, fila in df_firebase.iterrows():\n",
    "    determinante = fila['determinante_electivas']\n",
    "    \n",
    "    for i, prefix in enumerate(prefixes, start=1):\n",
    "        electiva_col = f'{prefix}_electiva'\n",
    "        general_col = f'{prefix}_general_rating'\n",
    "        method_col = f'{prefix}_method_rating'\n",
    "        personalGrowth_col = f'{prefix}_personalGrowth_rating'\n",
    "        rec_col = f'{prefix}_rec_rating'\n",
    "        teacher_col = f'{prefix}_teacher_rating'\n",
    "        time_col = f'{prefix}_time_rating'\n",
    "        \n",
    "        electiva = fila[electiva_col]\n",
    "        \n",
    "        if electiva.lower() != 'no':\n",
    "            nueva_fila = {\n",
    "                'electiva': electiva,\n",
    "                'general_rating': fila[general_col] if fila[general_col] != 'none' else None,\n",
    "                'method_rating': fila[method_col] if fila[method_col] != 'none' else None,\n",
    "                'personalGrowth_rating': fila[personalGrowth_col] if fila[personalGrowth_col] != 'none' else None,\n",
    "                'rec_rating': fila[rec_col] if fila[rec_col] != 'none' else None,\n",
    "                'teacher_rating': fila[teacher_col] if fila[teacher_col] != 'none' else None,\n",
    "                'time_rating': fila[time_col] if fila[time_col] != 'none' else None,\n",
    "            }\n",
    "            \n",
    "            df_temporal = pd.DataFrame([nueva_fila], columns=rating_columns)\n",
    "            df_ratings_list.append(df_temporal)\n",
    "\n",
    "df_ratings = pd.concat(df_ratings_list, ignore_index=True)\n",
    "df_ratings = df_ratings.dropna()\n",
    "\n",
    "def find_similar_electives(electiva_seleccionada, top_n=3):\n",
    "    selected_elective_data = df_ratings[df_ratings['electiva'] == electiva_seleccionada]\n",
    "    selected_elective_data = selected_elective_data.drop(columns=['electiva'])\n",
    "    similarity_scores = cosine_similarity(selected_elective_data, df_ratings.drop(columns=['electiva']))\n",
    "    similar_indices = similarity_scores.argsort()[0][-top_n - 1:-1][::-1]\n",
    "    similar_electives = df_ratings.iloc[similar_indices]['electiva'].tolist()\n",
    "\n",
    "    return similar_electives\n"
   ]
  },
  {
   "cell_type": "code",
   "execution_count": null,
   "id": "f96ce3a3",
   "metadata": {},
   "outputs": [
    {
     "name": "stdout",
     "output_type": "stream",
     "text": [
      " * Serving Flask app '__main__'\n",
      " * Debug mode: off\n"
     ]
    },
    {
     "name": "stderr",
     "output_type": "stream",
     "text": [
      "WARNING: This is a development server. Do not use it in a production deployment. Use a production WSGI server instead.\n",
      " * Running on http://127.0.0.1:5000\n",
      "Press CTRL+C to quit\n",
      "127.0.0.1 - - [23/Nov/2023 20:02:19] \"OPTIONS /rec-dmi HTTP/1.1\" 200 -\n"
     ]
    },
    {
     "name": "stdout",
     "output_type": "stream",
     "text": [
      "{'prefer': 'ux', 'day': 'martes', 'modal': 'virtual', 'importance': 'personal-growth'}\n"
     ]
    },
    {
     "name": "stderr",
     "output_type": "stream",
     "text": [
      "127.0.0.1 - - [23/Nov/2023 20:02:20] \"POST /rec-dmi HTTP/1.1\" 200 -\n",
      "127.0.0.1 - - [23/Nov/2023 20:21:59] \"OPTIONS /rec-dmi HTTP/1.1\" 200 -\n",
      "127.0.0.1 - - [23/Nov/2023 20:21:59] \"POST /rec-dmi HTTP/1.1\" 200 -\n"
     ]
    },
    {
     "name": "stdout",
     "output_type": "stream",
     "text": [
      "{'prefer': 'ui', 'day': 'martes', 'modal': 'semipresencial', 'importance': 'method'}\n"
     ]
    },
    {
     "name": "stderr",
     "output_type": "stream",
     "text": [
      "127.0.0.1 - - [23/Nov/2023 20:27:44] \"OPTIONS /rec-dmi HTTP/1.1\" 200 -\n",
      "127.0.0.1 - - [23/Nov/2023 20:27:44] \"POST /rec-dmi HTTP/1.1\" 200 -\n"
     ]
    },
    {
     "name": "stdout",
     "output_type": "stream",
     "text": [
      "{'prefer': 'ui', 'day': 'martes', 'modal': 'virtual', 'importance': 'personal-growth'}\n"
     ]
    },
    {
     "name": "stderr",
     "output_type": "stream",
     "text": [
      "127.0.0.1 - - [23/Nov/2023 20:29:31] \"OPTIONS /rec-dmi HTTP/1.1\" 200 -\n",
      "127.0.0.1 - - [23/Nov/2023 20:29:31] \"POST /rec-dmi HTTP/1.1\" 200 -\n"
     ]
    },
    {
     "name": "stdout",
     "output_type": "stream",
     "text": [
      "{'prefer': 'ux', 'day': 'lunes', 'modal': 'virtual', 'importance': 'personal-growth'}\n"
     ]
    },
    {
     "name": "stderr",
     "output_type": "stream",
     "text": [
      "127.0.0.1 - - [23/Nov/2023 20:33:18] \"OPTIONS /rec-dmi HTTP/1.1\" 200 -\n",
      "127.0.0.1 - - [23/Nov/2023 20:33:19] \"POST /rec-dmi HTTP/1.1\" 200 -\n"
     ]
    },
    {
     "name": "stdout",
     "output_type": "stream",
     "text": [
      "{'prefer': 'dev', 'day': 'jueves', 'modal': 'semipresencial', 'importance': 'method'}\n"
     ]
    },
    {
     "name": "stderr",
     "output_type": "stream",
     "text": [
      "127.0.0.1 - - [23/Nov/2023 20:38:30] \"OPTIONS /rec-dmi HTTP/1.1\" 200 -\n",
      "127.0.0.1 - - [23/Nov/2023 20:38:30] \"POST /rec-dmi HTTP/1.1\" 200 -\n"
     ]
    },
    {
     "name": "stdout",
     "output_type": "stream",
     "text": [
      "{'prefer': 'ui', 'day': 'sabado', 'modal': 'virtual', 'importance': 'rec'}\n"
     ]
    },
    {
     "name": "stderr",
     "output_type": "stream",
     "text": [
      "127.0.0.1 - - [23/Nov/2023 20:41:14] \"OPTIONS /rec-dmi HTTP/1.1\" 200 -\n",
      "127.0.0.1 - - [23/Nov/2023 20:41:15] \"POST /rec-dmi HTTP/1.1\" 200 -\n"
     ]
    },
    {
     "name": "stdout",
     "output_type": "stream",
     "text": [
      "{'prefer': 'ux', 'day': 'martes', 'modal': 'virtual', 'importance': 'teacher'}\n"
     ]
    },
    {
     "name": "stderr",
     "output_type": "stream",
     "text": [
      "127.0.0.1 - - [23/Nov/2023 20:43:36] \"OPTIONS /rec-dmi HTTP/1.1\" 200 -\n",
      "127.0.0.1 - - [23/Nov/2023 20:43:37] \"POST /rec-dmi HTTP/1.1\" 200 -\n"
     ]
    },
    {
     "name": "stdout",
     "output_type": "stream",
     "text": [
      "{'prefer': 'dev', 'day': 'martes', 'modal': 'semipresencial', 'importance': 'personal-growth'}\n"
     ]
    },
    {
     "name": "stderr",
     "output_type": "stream",
     "text": [
      "127.0.0.1 - - [23/Nov/2023 20:45:31] \"OPTIONS /rec-dmi HTTP/1.1\" 200 -\n",
      "127.0.0.1 - - [23/Nov/2023 20:45:31] \"POST /rec-dmi HTTP/1.1\" 200 -\n"
     ]
    },
    {
     "name": "stdout",
     "output_type": "stream",
     "text": [
      "{'prefer': 'ui', 'day': 'martes', 'modal': 'presencial', 'importance': 'personal-growth'}\n"
     ]
    },
    {
     "name": "stderr",
     "output_type": "stream",
     "text": [
      "127.0.0.1 - - [23/Nov/2023 21:04:59] \"OPTIONS /rec-dmi HTTP/1.1\" 200 -\n",
      "127.0.0.1 - - [23/Nov/2023 21:05:00] \"POST /rec-dmi HTTP/1.1\" 200 -\n"
     ]
    },
    {
     "name": "stdout",
     "output_type": "stream",
     "text": [
      "{'prefer': 'dev', 'day': 'martes', 'modal': 'virtual', 'importance': 'method'}\n"
     ]
    },
    {
     "name": "stderr",
     "output_type": "stream",
     "text": [
      "127.0.0.1 - - [23/Nov/2023 21:06:55] \"OPTIONS /rec-dmi HTTP/1.1\" 200 -\n",
      "127.0.0.1 - - [23/Nov/2023 21:06:55] \"POST /rec-dmi HTTP/1.1\" 200 -\n"
     ]
    },
    {
     "name": "stdout",
     "output_type": "stream",
     "text": [
      "{'prefer': 'ui', 'day': 'martes', 'modal': 'presencial', 'importance': 'rec'}\n"
     ]
    },
    {
     "name": "stderr",
     "output_type": "stream",
     "text": [
      "127.0.0.1 - - [23/Nov/2023 21:09:15] \"OPTIONS /rec-dmi HTTP/1.1\" 200 -\n",
      "127.0.0.1 - - [23/Nov/2023 21:09:15] \"POST /rec-dmi HTTP/1.1\" 200 -\n"
     ]
    },
    {
     "name": "stdout",
     "output_type": "stream",
     "text": [
      "{'prefer': 'ui', 'day': 'lunes', 'modal': 'presencial', 'importance': 'personal-growth'}\n"
     ]
    },
    {
     "name": "stderr",
     "output_type": "stream",
     "text": [
      "127.0.0.1 - - [23/Nov/2023 21:21:43] \"OPTIONS /rec-dmi HTTP/1.1\" 200 -\n",
      "127.0.0.1 - - [23/Nov/2023 21:21:44] \"POST /rec-dmi HTTP/1.1\" 200 -\n"
     ]
    },
    {
     "name": "stdout",
     "output_type": "stream",
     "text": [
      "{'prefer': 'ux', 'day': 'lunes', 'modal': 'presencial', 'importance': 'personal-growth'}\n"
     ]
    },
    {
     "name": "stderr",
     "output_type": "stream",
     "text": [
      "127.0.0.1 - - [23/Nov/2023 21:28:58] \"OPTIONS /rec-dmi HTTP/1.1\" 200 -\n",
      "127.0.0.1 - - [23/Nov/2023 21:28:59] \"POST /rec-dmi HTTP/1.1\" 200 -\n"
     ]
    },
    {
     "name": "stdout",
     "output_type": "stream",
     "text": [
      "{'prefer': 'dev', 'day': 'martes', 'modal': 'presencial', 'importance': 'method'}\n"
     ]
    },
    {
     "name": "stderr",
     "output_type": "stream",
     "text": [
      "127.0.0.1 - - [23/Nov/2023 21:35:52] \"OPTIONS /rec-dmi HTTP/1.1\" 200 -\n",
      "127.0.0.1 - - [23/Nov/2023 21:35:52] \"POST /rec-dmi HTTP/1.1\" 200 -\n"
     ]
    },
    {
     "name": "stdout",
     "output_type": "stream",
     "text": [
      "{'prefer': 'dev', 'day': 'martes', 'modal': 'virtual', 'importance': 'rec'}\n"
     ]
    },
    {
     "name": "stderr",
     "output_type": "stream",
     "text": [
      "127.0.0.1 - - [23/Nov/2023 21:36:57] \"OPTIONS /rec-dmi HTTP/1.1\" 200 -\n",
      "127.0.0.1 - - [23/Nov/2023 21:36:57] \"POST /rec-dmi HTTP/1.1\" 200 -\n"
     ]
    },
    {
     "name": "stdout",
     "output_type": "stream",
     "text": [
      "{'prefer': 'ux', 'day': 'martes', 'modal': 'virtual', 'importance': 'personal-growth'}\n"
     ]
    },
    {
     "name": "stderr",
     "output_type": "stream",
     "text": [
      "127.0.0.1 - - [23/Nov/2023 21:48:47] \"OPTIONS /rec-dmi HTTP/1.1\" 200 -\n",
      "127.0.0.1 - - [23/Nov/2023 21:48:48] \"POST /rec-dmi HTTP/1.1\" 200 -\n"
     ]
    },
    {
     "name": "stdout",
     "output_type": "stream",
     "text": [
      "{'prefer': 'ui', 'day': 'martes', 'modal': 'semipresencial', 'importance': 'method'}\n"
     ]
    },
    {
     "name": "stderr",
     "output_type": "stream",
     "text": [
      "127.0.0.1 - - [23/Nov/2023 22:21:54] \"OPTIONS /rec-dmi HTTP/1.1\" 200 -\n",
      "127.0.0.1 - - [23/Nov/2023 22:21:54] \"POST /rec-dmi HTTP/1.1\" 200 -\n"
     ]
    },
    {
     "name": "stdout",
     "output_type": "stream",
     "text": [
      "{'prefer': 'dev', 'day': 'miercoles', 'modal': 'virtual', 'importance': 'rec'}\n"
     ]
    },
    {
     "name": "stderr",
     "output_type": "stream",
     "text": [
      "127.0.0.1 - - [23/Nov/2023 22:29:18] \"OPTIONS /rec-dmi HTTP/1.1\" 200 -\n",
      "127.0.0.1 - - [23/Nov/2023 22:29:18] \"POST /rec-dmi HTTP/1.1\" 200 -\n"
     ]
    },
    {
     "name": "stdout",
     "output_type": "stream",
     "text": [
      "{'prefer': 'seleccionar', 'day': 'seleccionar', 'modal': 'seleccionar', 'importance': 'seleccionar'}\n"
     ]
    },
    {
     "name": "stderr",
     "output_type": "stream",
     "text": [
      "127.0.0.1 - - [23/Nov/2023 22:29:29] \"OPTIONS /rec-dmi HTTP/1.1\" 200 -\n",
      "127.0.0.1 - - [23/Nov/2023 22:29:29] \"POST /rec-dmi HTTP/1.1\" 200 -\n"
     ]
    },
    {
     "name": "stdout",
     "output_type": "stream",
     "text": [
      "{'prefer': 'ui', 'day': 'martes', 'modal': 'virtual', 'importance': 'personal-growth'}\n"
     ]
    },
    {
     "name": "stderr",
     "output_type": "stream",
     "text": [
      "127.0.0.1 - - [23/Nov/2023 22:30:22] \"OPTIONS /rec-dmi HTTP/1.1\" 200 -\n",
      "127.0.0.1 - - [23/Nov/2023 22:30:22] \"POST /rec-dmi HTTP/1.1\" 200 -\n"
     ]
    },
    {
     "name": "stdout",
     "output_type": "stream",
     "text": [
      "{'prefer': 'ui', 'day': 'jueves', 'modal': 'semipresencial', 'importance': 'personal-growth'}\n"
     ]
    },
    {
     "name": "stderr",
     "output_type": "stream",
     "text": [
      "127.0.0.1 - - [23/Nov/2023 22:32:05] \"OPTIONS /rec-dmi HTTP/1.1\" 200 -\n",
      "127.0.0.1 - - [23/Nov/2023 22:32:05] \"POST /rec-dmi HTTP/1.1\" 200 -\n"
     ]
    },
    {
     "name": "stdout",
     "output_type": "stream",
     "text": [
      "{'prefer': 'ui', 'day': 'martes', 'modal': 'virtual', 'importance': 'personal-growth'}\n"
     ]
    },
    {
     "name": "stderr",
     "output_type": "stream",
     "text": [
      "127.0.0.1 - - [23/Nov/2023 22:38:54] \"OPTIONS /rec-dmi HTTP/1.1\" 200 -\n",
      "127.0.0.1 - - [23/Nov/2023 22:38:54] \"POST /rec-dmi HTTP/1.1\" 200 -\n"
     ]
    },
    {
     "name": "stdout",
     "output_type": "stream",
     "text": [
      "{'prefer': 'dev', 'day': 'martes', 'modal': 'semipresencial', 'importance': 'personal-growth'}\n"
     ]
    },
    {
     "name": "stderr",
     "output_type": "stream",
     "text": [
      "127.0.0.1 - - [23/Nov/2023 23:08:41] \"OPTIONS /rec-dmi HTTP/1.1\" 200 -\n",
      "127.0.0.1 - - [23/Nov/2023 23:08:41] \"POST /rec-dmi HTTP/1.1\" 200 -\n"
     ]
    },
    {
     "name": "stdout",
     "output_type": "stream",
     "text": [
      "{'prefer': 'ui', 'day': 'martes', 'modal': 'virtual', 'importance': 'personal-growth'}\n"
     ]
    },
    {
     "name": "stderr",
     "output_type": "stream",
     "text": [
      "127.0.0.1 - - [23/Nov/2023 23:10:38] \"OPTIONS /rec-dmi HTTP/1.1\" 200 -\n",
      "127.0.0.1 - - [23/Nov/2023 23:10:38] \"POST /rec-dmi HTTP/1.1\" 200 -\n"
     ]
    },
    {
     "name": "stdout",
     "output_type": "stream",
     "text": [
      "{'prefer': 'ux', 'day': 'lunes', 'modal': 'presencial', 'importance': 'personal-growth'}\n"
     ]
    },
    {
     "name": "stderr",
     "output_type": "stream",
     "text": [
      "127.0.0.1 - - [23/Nov/2023 23:16:12] \"OPTIONS /rec-dmi HTTP/1.1\" 200 -\n",
      "127.0.0.1 - - [23/Nov/2023 23:16:12] \"POST /rec-dmi HTTP/1.1\" 200 -\n"
     ]
    },
    {
     "name": "stdout",
     "output_type": "stream",
     "text": [
      "{'prefer': 'ux', 'day': 'miercoles', 'modal': 'presencial', 'importance': 'personal-growth'}\n"
     ]
    },
    {
     "name": "stderr",
     "output_type": "stream",
     "text": [
      "127.0.0.1 - - [23/Nov/2023 23:16:55] \"OPTIONS /rec-dmi HTTP/1.1\" 200 -\n",
      "127.0.0.1 - - [23/Nov/2023 23:16:55] \"POST /rec-dmi HTTP/1.1\" 200 -\n"
     ]
    },
    {
     "name": "stdout",
     "output_type": "stream",
     "text": [
      "{'prefer': 'ui', 'day': 'miercoles', 'modal': 'virtual', 'importance': 'method'}\n"
     ]
    },
    {
     "name": "stderr",
     "output_type": "stream",
     "text": [
      "127.0.0.1 - - [23/Nov/2023 23:17:43] \"OPTIONS /rec-dmi HTTP/1.1\" 200 -\n",
      "127.0.0.1 - - [23/Nov/2023 23:17:43] \"POST /rec-dmi HTTP/1.1\" 200 -\n"
     ]
    },
    {
     "name": "stdout",
     "output_type": "stream",
     "text": [
      "{'prefer': 'ui', 'day': 'martes', 'modal': 'virtual', 'importance': 'personal-growth'}\n"
     ]
    },
    {
     "name": "stderr",
     "output_type": "stream",
     "text": [
      "127.0.0.1 - - [23/Nov/2023 23:21:15] \"OPTIONS /rec-dmi HTTP/1.1\" 200 -\n",
      "127.0.0.1 - - [23/Nov/2023 23:21:15] \"POST /rec-dmi HTTP/1.1\" 200 -\n"
     ]
    },
    {
     "name": "stdout",
     "output_type": "stream",
     "text": [
      "{'prefer': 'ux', 'day': 'lunes', 'modal': 'virtual', 'importance': 'personal-growth'}\n"
     ]
    },
    {
     "name": "stderr",
     "output_type": "stream",
     "text": [
      "127.0.0.1 - - [23/Nov/2023 23:23:01] \"OPTIONS /rec-dmi HTTP/1.1\" 200 -\n",
      "127.0.0.1 - - [23/Nov/2023 23:23:02] \"POST /rec-dmi HTTP/1.1\" 200 -\n"
     ]
    },
    {
     "name": "stdout",
     "output_type": "stream",
     "text": [
      "{'prefer': 'ui', 'day': 'martes', 'modal': 'presencial', 'importance': 'personal-growth'}\n"
     ]
    }
   ],
   "source": [
    "from flask import Flask, request, jsonify\n",
    "from flask_cors import CORS\n",
    "\n",
    "app = Flask(__name__)\n",
    "CORS(app)\n",
    "\n",
    "@app.route('/rec-dmi', methods=['POST'])\n",
    "def recibir_datos():\n",
    "    datos_recibidos = request.json  \n",
    "    print(datos_recibidos)\n",
    "    \n",
    "    electiva_seleccionada = 'Innovación en servicios'\n",
    "    similares = find_similar_electives(electiva_seleccionada)\n",
    "    \n",
    "    respuesta = {\"similares\": similares,\n",
    "                \"hello\":\"hi\"}\n",
    "    \n",
    "    return jsonify(respuesta)\n",
    "\n",
    "if __name__ == '__main__':\n",
    "    app.run(port=5000) "
   ]
  },
  {
   "cell_type": "code",
   "execution_count": 2,
   "id": "c34ec28c",
   "metadata": {},
   "outputs": [
    {
     "name": "stdout",
     "output_type": "stream",
     "text": [
      "Collecting flask-cors\n",
      "  Downloading Flask_Cors-4.0.0-py2.py3-none-any.whl (14 kB)\n",
      "Requirement already satisfied: Flask>=0.9 in c:\\users\\usuario\\anaconda3\\lib\\site-packages (from flask-cors) (2.2.2)\n",
      "Requirement already satisfied: Werkzeug>=2.2.2 in c:\\users\\usuario\\anaconda3\\lib\\site-packages (from Flask>=0.9->flask-cors) (2.2.3)\n",
      "Requirement already satisfied: Jinja2>=3.0 in c:\\users\\usuario\\anaconda3\\lib\\site-packages (from Flask>=0.9->flask-cors) (3.1.2)\n",
      "Requirement already satisfied: itsdangerous>=2.0 in c:\\users\\usuario\\anaconda3\\lib\\site-packages (from Flask>=0.9->flask-cors) (2.0.1)\n",
      "Requirement already satisfied: click>=8.0 in c:\\users\\usuario\\anaconda3\\lib\\site-packages (from Flask>=0.9->flask-cors) (8.0.4)\n",
      "Requirement already satisfied: colorama in c:\\users\\usuario\\anaconda3\\lib\\site-packages (from click>=8.0->Flask>=0.9->flask-cors) (0.4.6)\n",
      "Requirement already satisfied: MarkupSafe>=2.0 in c:\\users\\usuario\\anaconda3\\lib\\site-packages (from Jinja2>=3.0->Flask>=0.9->flask-cors) (2.1.1)\n",
      "Installing collected packages: flask-cors\n",
      "Successfully installed flask-cors-4.0.0\n"
     ]
    }
   ],
   "source": []
  },
  {
   "cell_type": "code",
   "execution_count": null,
   "id": "76231495",
   "metadata": {},
   "outputs": [],
   "source": []
  }
 ],
 "metadata": {
  "kernelspec": {
   "display_name": "Python 3 (ipykernel)",
   "language": "python",
   "name": "python3"
  },
  "language_info": {
   "codemirror_mode": {
    "name": "ipython",
    "version": 3
   },
   "file_extension": ".py",
   "mimetype": "text/x-python",
   "name": "python",
   "nbconvert_exporter": "python",
   "pygments_lexer": "ipython3",
   "version": "3.11.3"
  }
 },
 "nbformat": 4,
 "nbformat_minor": 5
}
