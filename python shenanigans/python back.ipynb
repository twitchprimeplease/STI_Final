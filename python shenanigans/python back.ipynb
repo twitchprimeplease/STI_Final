{
 "cells": [
  {
   "cell_type": "code",
   "execution_count": 29,
   "id": "cecaf891",
   "metadata": {},
   "outputs": [
    {
     "name": "stdout",
     "output_type": "stream",
     "text": [
      "                                        class_name        day       modal\n",
      "0            Administración de empresas familiares     martes  presencial\n",
      "1                               Analítica de datos     jueves  presencial\n",
      "2                             Aplicaciones móviles      lunes  presencial\n",
      "3                       Comunicaciones gerenciales     jueves  presencial\n",
      "4   Creación de experiencias para realidades VR-AR      lunes  presencial\n",
      "5                         Estrategia de innovación    viernes  presencial\n",
      "6      Finanzas personales para nuevos empresarios      lunes  presencial\n",
      "7                         Habilidades de dirección     martes  presencial\n",
      "8                 Innovación en modelos de negocio  miercoles  presencial\n",
      "9                 Innovación en modelos de negocio     jueves  presencial\n",
      "10                         Innovación en servicios      lunes  presencial\n",
      "11                           Internet de las cosas    viernes  presencial\n",
      "12               Investigación de usuarios para UX     martes     virtual\n",
      "13                             Marketing sensorial  miercoles  presencial\n",
      "14                             Marketing sensorial     martes  presencial\n",
      "15                      Postproducción fotográfica  miercoles  presencial\n",
      "16     Strategic pitch and effective presentations      lunes  presencial\n",
      "17                                    Web avanzada     martes     virtual\n"
     ]
    }
   ],
   "source": [
    "import pandas as pd\n",
    "import firebase_admin\n",
    "from firebase_admin import credentials, db\n",
    "\n",
    "if not firebase_admin._apps:\n",
    "    \n",
    "    cred = credentials.Certificate('nope.json')\n",
    "    firebase_admin.initialize_app(cred, {\n",
    "        'databaseURL': 'https://sistema-rec-dmi-default-rtdb.firebaseio.com/'\n",
    "    })\n",
    "ref = db.reference('/base_materias') \n",
    "\n",
    "datos_firebase = ref.get()\n",
    "\n",
    "df_firebase = pd.DataFrame(datos_firebase)\n",
    "\n",
    "print(df_firebase)"
   ]
  },
  {
   "cell_type": "code",
   "execution_count": 1,
   "id": "f96ce3a3",
   "metadata": {},
   "outputs": [
    {
     "name": "stdout",
     "output_type": "stream",
     "text": [
      " * Serving Flask app '__main__'\n",
      " * Debug mode: off\n"
     ]
    },
    {
     "name": "stderr",
     "output_type": "stream",
     "text": [
      "WARNING: This is a development server. Do not use it in a production deployment. Use a production WSGI server instead.\n",
      " * Running on http://127.0.0.1:5000\n",
      "Press CTRL+C to quit\n",
      "127.0.0.1 - - [23/Nov/2023 01:13:08] \"OPTIONS /rec-dmi HTTP/1.1\" 200 -\n",
      "127.0.0.1 - - [23/Nov/2023 01:13:08] \"POST /rec-dmi HTTP/1.1\" 200 -\n"
     ]
    },
    {
     "name": "stdout",
     "output_type": "stream",
     "text": [
      "{'prefer': 'ui', 'day': 'lunes', 'modal': 'presencial'}\n"
     ]
    }
   ],
   "source": [
    "from flask import Flask, request, jsonify\n",
    "from flask_cors import CORS\n",
    "\n",
    "app = Flask(__name__)\n",
    "CORS(app)\n",
    "\n",
    "@app.route('/rec-dmi', methods=['POST'])\n",
    "def recibir_datos():\n",
    "    datos_recibidos = request.json  \n",
    "    print(datos_recibidos)\n",
    "    respuesta = {'mensaje': 'Datos recibidos correctamente'}\n",
    "    return jsonify(respuesta)\n",
    "\n",
    "if __name__ == '__main__':\n",
    "    app.run(port=5000) "
   ]
  },
  {
   "cell_type": "code",
   "execution_count": null,
   "id": "c34ec28c",
   "metadata": {},
   "outputs": [],
   "source": []
  },
  {
   "cell_type": "code",
   "execution_count": null,
   "id": "76231495",
   "metadata": {},
   "outputs": [],
   "source": []
  }
 ],
 "metadata": {
  "kernelspec": {
   "display_name": "Python 3 (ipykernel)",
   "language": "python",
   "name": "python3"
  },
  "language_info": {
   "codemirror_mode": {
    "name": "ipython",
    "version": 3
   },
   "file_extension": ".py",
   "mimetype": "text/x-python",
   "name": "python",
   "nbconvert_exporter": "python",
   "pygments_lexer": "ipython3",
   "version": "3.11.4"
  }
 },
 "nbformat": 4,
 "nbformat_minor": 5
}
